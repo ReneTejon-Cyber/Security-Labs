{
 "cells": [
  {
   "cell_type": "markdown",
   "id": "124a9da2",
   "metadata": {},
   "source": [
    "# Security Log Analysis Notebook\n",
    "**Purpose**: Demonstrate Python for SOC workflows  \n",
    "**Data Source**: Simulated failed SSH logs  \n",
    "**Key Metrics**:  \n",
    "- Top attacker IPs  \n",
    "- Time patterns  "
   ]
  }
 ],
 "metadata": {
  "kernelspec": {
   "display_name": "Python 3",
   "language": "python",
   "name": "python3"
  },
  "language_info": {
   "codemirror_mode": {
    "name": "ipython",
    "version": 3
   },
   "file_extension": ".py",
   "mimetype": "text/x-python",
   "name": "python",
   "nbconvert_exporter": "python",
   "pygments_lexer": "ipython3",
   "version": "3.12.10"
  }
 },
 "nbformat": 4,
 "nbformat_minor": 5
}
